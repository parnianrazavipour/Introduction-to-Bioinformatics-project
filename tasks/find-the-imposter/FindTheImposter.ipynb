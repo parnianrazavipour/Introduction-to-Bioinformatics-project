{
 "cells": [
  {
   "cell_type": "markdown",
   "metadata": {},
   "source": [
    "# Final Project of Introduction to Bioinformatics\n",
    "\n",
    "## Find The Imposter - Deciphering Mysterious Sequences\n",
    "\n",
    "#### TA: Javad Razi (j.razi@outlook.com)"
   ]
  },
  {
   "cell_type": "markdown",
   "metadata": {},
   "source": [
    "\n",
    "### Overview\n",
    "\n",
    "Welcome to an exploratory journey into the world of bioinformatics, where we will delve into the DNA of flying species. This project presents a unique opportunity to unravel a genomic mystery using Galaxy, a sophisticated yet user-friendly bioinformatics platform. Your mission is to assemble a genome from short-read sequences, revealing insights into a specific DNA sequence found in various avian species. Along the way, you'll learn to navigate the complexities of genome assembly and conduct detailed BLAST searches, piecing together a puzzle millions of years in the making. \n",
    "## Project Description: The Genomic Detective - Delving into Avian DNA with Galaxy\n",
    "\n",
    "### Objectives and Workflow\n",
    "\n",
    "1. **Introduction and Setup with Galaxy:**\n",
    "   - Start by exploring the Galaxy platform, designed for bioinformatics analysis. You can find a comprehensive introduction and a step-by-step guide on how to use Galaxy, including how to set up your work environment and get data into Galaxy, at the [Galaxy Project Training Network](https://training.galaxyproject.org/). This resource provides a hands-on introduction to Genomics and Galaxy, covering basic aspects like creating a new history and using the Get Data toolbox.\n",
    "\n",
    "2. **Genome Assembly:**\n",
    "   - For learning about genome assembly methods, the [Galaxy Project Training Network](https://training.galaxyproject.org/) offers a variety of resources and guides. This site provides access to a wide range of learning materials, helping users to understand the intricacies of genome assembly within the Galaxy platform.\n",
    "\n",
    "3. **Performing BLAST Searches:**\n",
    "   - To understand how to perform BLAST searches using Galaxy, the NCBI BLAST User Guide remains a crucial resource. You can access it at [NCBI's BLAST User Guide](https://www.ncbi.nlm.nih.gov/books/NBK279690/). This guide offers detailed instructions and insights into using BLAST for sequence comparison and analysis.\n",
    "\n",
    "4. **Comparative Genomics and Analysis:**\n",
    "   - Compare your findings against existing genomic data. This comparative analysis will help you shed light on the unique aspects of your assembled sequence and its significance in avian genetics.\n",
    "\n",
    "### Specific Deliverables\n",
    "\n",
    "- **Complete Code:** Submit all the code you used for assembling the genome, performing BLAST searches, and further analysis. Ensure your code is well-commented and organized for clarity.\n",
    "- **Assembled Genome Fasta File:** Provide the fasta file of the assembled genome. This should be the direct output of your assembly process.\n",
    "- **BLAST Results CSV File:** Include a CSV file with the results from your BLAST searches. This file should contain detailed information about any genomic matches found.\n",
    "- **Detailed Interpretation:** At the end of your notebook, include a thorough interpretation of your findings. Discuss the significance of the sequence within the avian genome, any similarities or differences with sequences in other species, and the potential implications of these results. Your interpretation should be grounded in the data analysis conducted."
   ]
  },
  {
   "cell_type": "code",
   "execution_count": 7,
   "metadata": {},
   "outputs": [
    {
     "name": "stdout",
     "output_type": "stream",
     "text": [
      "Defaulting to user installation because normal site-packages is not writeable\n",
      "Collecting git+https://github.com/galaxyproject/bioblend\n",
      "  Cloning https://github.com/galaxyproject/bioblend to /tmp/pip-req-build-2i42na67\n",
      "  Running command git clone --filter=blob:none --quiet https://github.com/galaxyproject/bioblend /tmp/pip-req-build-2i42na67\n",
      "  Resolved https://github.com/galaxyproject/bioblend to commit 502dbc1e6e2c387229cce6a439ca3a6102797327\n",
      "  Installing build dependencies ... \u001b[?25ldone\n",
      "\u001b[?25h  Getting requirements to build wheel ... \u001b[?25ldone\n",
      "\u001b[?25h  Installing backend dependencies ... \u001b[?25ldone\n",
      "\u001b[?25h  Preparing metadata (pyproject.toml) ... \u001b[?25ldone\n",
      "\u001b[?25hRequirement already satisfied: requests>=2.20.0 in /usr/lib/python3/dist-packages (from bioblend==1.2.0) (2.22.0)\n",
      "Collecting requests-toolbelt!=0.9.0,>=0.5.1 (from bioblend==1.2.0)\n",
      "  Downloading requests_toolbelt-1.0.0-py2.py3-none-any.whl (54 kB)\n",
      "\u001b[2K     \u001b[90m━━━━━━━━━━━━━━━━━━━━━━━━━━━━━━━━━━━━━━━━\u001b[0m \u001b[32m54.5/54.5 kB\u001b[0m \u001b[31m55.9 kB/s\u001b[0m eta \u001b[36m0:00:00\u001b[0ma \u001b[36m0:00:01\u001b[0m\n",
      "\u001b[?25hCollecting tuspy (from bioblend==1.2.0)\n",
      "  Downloading tuspy-1.0.3-py3-none-any.whl.metadata (4.3 kB)\n",
      "Collecting tinydb>=3.5.0 (from tuspy->bioblend==1.2.0)\n",
      "  Downloading tinydb-4.8.0-py3-none-any.whl.metadata (6.2 kB)\n",
      "Requirement already satisfied: aiohttp>=3.6.2 in /home/parnian/.local/lib/python3.8/site-packages (from tuspy->bioblend==1.2.0) (3.8.5)\n",
      "Requirement already satisfied: attrs>=17.3.0 in /home/parnian/.local/lib/python3.8/site-packages (from aiohttp>=3.6.2->tuspy->bioblend==1.2.0) (22.1.0)\n",
      "Requirement already satisfied: charset-normalizer<4.0,>=2.0 in /home/parnian/.local/lib/python3.8/site-packages (from aiohttp>=3.6.2->tuspy->bioblend==1.2.0) (3.2.0)\n",
      "Requirement already satisfied: multidict<7.0,>=4.5 in /home/parnian/.local/lib/python3.8/site-packages (from aiohttp>=3.6.2->tuspy->bioblend==1.2.0) (6.0.4)\n",
      "Requirement already satisfied: async-timeout<5.0,>=4.0.0a3 in /home/parnian/.local/lib/python3.8/site-packages (from aiohttp>=3.6.2->tuspy->bioblend==1.2.0) (4.0.3)\n",
      "Requirement already satisfied: yarl<2.0,>=1.0 in /home/parnian/.local/lib/python3.8/site-packages (from aiohttp>=3.6.2->tuspy->bioblend==1.2.0) (1.9.2)\n",
      "Requirement already satisfied: frozenlist>=1.1.1 in /home/parnian/.local/lib/python3.8/site-packages (from aiohttp>=3.6.2->tuspy->bioblend==1.2.0) (1.4.0)\n",
      "Requirement already satisfied: aiosignal>=1.1.2 in /home/parnian/.local/lib/python3.8/site-packages (from aiohttp>=3.6.2->tuspy->bioblend==1.2.0) (1.3.1)\n",
      "Requirement already satisfied: idna>=2.0 in /usr/lib/python3/dist-packages (from yarl<2.0,>=1.0->aiohttp>=3.6.2->tuspy->bioblend==1.2.0) (2.8)\n",
      "Downloading tuspy-1.0.3-py3-none-any.whl (14 kB)\n",
      "Downloading tinydb-4.8.0-py3-none-any.whl (24 kB)\n",
      "Building wheels for collected packages: bioblend\n",
      "  Building wheel for bioblend (pyproject.toml) ... \u001b[?25ldone\n",
      "\u001b[?25h  Created wheel for bioblend: filename=bioblend-1.2.0-py2.py3-none-any.whl size=157710 sha256=ac671bafeff0b5f60dc95016061474f043c1bc8d8c1f21895ce1304fe36e9f47\n",
      "  Stored in directory: /tmp/pip-ephem-wheel-cache-ey1_e51e/wheels/2e/f9/ec/607d9231205fac73aaeb280f89afe7cb8c625477cc65ff1825\n",
      "Successfully built bioblend\n",
      "\u001b[33mDEPRECATION: distro-info 0.23ubuntu1 has a non-standard version number. pip 24.0 will enforce this behaviour change. A possible replacement is to upgrade to a newer version of distro-info or contact the author to suggest that they release a version with a conforming version number. Discussion can be found at https://github.com/pypa/pip/issues/12063\u001b[0m\u001b[33m\n",
      "\u001b[0m\u001b[33mDEPRECATION: gpg 1.13.1-unknown has a non-standard version number. pip 24.0 will enforce this behaviour change. A possible replacement is to upgrade to a newer version of gpg or contact the author to suggest that they release a version with a conforming version number. Discussion can be found at https://github.com/pypa/pip/issues/12063\u001b[0m\u001b[33m\n",
      "\u001b[0m\u001b[33mDEPRECATION: python-debian 0.1.36ubuntu1 has a non-standard version number. pip 24.0 will enforce this behaviour change. A possible replacement is to upgrade to a newer version of python-debian or contact the author to suggest that they release a version with a conforming version number. Discussion can be found at https://github.com/pypa/pip/issues/12063\u001b[0m\u001b[33m\n",
      "\u001b[0mInstalling collected packages: tinydb, requests-toolbelt, tuspy, bioblend\n",
      "Successfully installed bioblend-1.2.0 requests-toolbelt-1.0.0 tinydb-4.8.0 tuspy-1.0.3\n"
     ]
    }
   ],
   "source": [
    "! python3 -m pip install git+https://github.com/galaxyproject/bioblend"
   ]
  },
  {
   "cell_type": "code",
   "execution_count": 9,
   "metadata": {},
   "outputs": [
    {
     "name": "stdout",
     "output_type": "stream",
     "text": [
      "Requirement already satisfied: biopython in /usr/local/lib/python3.8/dist-packages (1.81)\n",
      "Requirement already satisfied: numpy in /usr/local/lib/python3.8/dist-packages (from biopython) (1.24.2)\n"
     ]
    }
   ],
   "source": [
    "! pip install biopython"
   ]
  },
  {
   "cell_type": "code",
   "execution_count": 10,
   "metadata": {},
   "outputs": [
    {
     "name": "stdout",
     "output_type": "stream",
     "text": [
      "Defaulting to user installation because normal site-packages is not writeable\n",
      "Requirement already satisfied: bioblend in /home/parnian/.local/lib/python3.8/site-packages (1.2.0)\n",
      "Requirement already satisfied: requests>=2.20.0 in /usr/lib/python3/dist-packages (from bioblend) (2.22.0)\n",
      "Requirement already satisfied: requests-toolbelt!=0.9.0,>=0.5.1 in /home/parnian/.local/lib/python3.8/site-packages (from bioblend) (1.0.0)\n",
      "Requirement already satisfied: tuspy in /home/parnian/.local/lib/python3.8/site-packages (from bioblend) (1.0.3)\n",
      "Requirement already satisfied: tinydb>=3.5.0 in /home/parnian/.local/lib/python3.8/site-packages (from tuspy->bioblend) (4.8.0)\n",
      "Requirement already satisfied: aiohttp>=3.6.2 in /home/parnian/.local/lib/python3.8/site-packages (from tuspy->bioblend) (3.8.5)\n",
      "Requirement already satisfied: attrs>=17.3.0 in /home/parnian/.local/lib/python3.8/site-packages (from aiohttp>=3.6.2->tuspy->bioblend) (22.1.0)\n",
      "Requirement already satisfied: charset-normalizer<4.0,>=2.0 in /home/parnian/.local/lib/python3.8/site-packages (from aiohttp>=3.6.2->tuspy->bioblend) (3.2.0)\n",
      "Requirement already satisfied: multidict<7.0,>=4.5 in /home/parnian/.local/lib/python3.8/site-packages (from aiohttp>=3.6.2->tuspy->bioblend) (6.0.4)\n",
      "Requirement already satisfied: async-timeout<5.0,>=4.0.0a3 in /home/parnian/.local/lib/python3.8/site-packages (from aiohttp>=3.6.2->tuspy->bioblend) (4.0.3)\n",
      "Requirement already satisfied: yarl<2.0,>=1.0 in /home/parnian/.local/lib/python3.8/site-packages (from aiohttp>=3.6.2->tuspy->bioblend) (1.9.2)\n",
      "Requirement already satisfied: frozenlist>=1.1.1 in /home/parnian/.local/lib/python3.8/site-packages (from aiohttp>=3.6.2->tuspy->bioblend) (1.4.0)\n",
      "Requirement already satisfied: aiosignal>=1.1.2 in /home/parnian/.local/lib/python3.8/site-packages (from aiohttp>=3.6.2->tuspy->bioblend) (1.3.1)\n",
      "Requirement already satisfied: idna>=2.0 in /usr/lib/python3/dist-packages (from yarl<2.0,>=1.0->aiohttp>=3.6.2->tuspy->bioblend) (2.8)\n"
     ]
    },
    {
     "name": "stderr",
     "output_type": "stream",
     "text": [
      "DEPRECATION: distro-info 0.23ubuntu1 has a non-standard version number. pip 24.0 will enforce this behaviour change. A possible replacement is to upgrade to a newer version of distro-info or contact the author to suggest that they release a version with a conforming version number. Discussion can be found at https://github.com/pypa/pip/issues/12063\n",
      "DEPRECATION: gpg 1.13.1-unknown has a non-standard version number. pip 24.0 will enforce this behaviour change. A possible replacement is to upgrade to a newer version of gpg or contact the author to suggest that they release a version with a conforming version number. Discussion can be found at https://github.com/pypa/pip/issues/12063\n",
      "DEPRECATION: python-debian 0.1.36ubuntu1 has a non-standard version number. pip 24.0 will enforce this behaviour change. A possible replacement is to upgrade to a newer version of python-debian or contact the author to suggest that they release a version with a conforming version number. Discussion can be found at https://github.com/pypa/pip/issues/12063\n"
     ]
    },
    {
     "name": "stdout",
     "output_type": "stream",
     "text": [
      "bioblend (1.2.0) is installed\n",
      "Defaulting to user installation because normal site-packages is not writeable\n",
      "Requirement already satisfied: biopython in /usr/local/lib/python3.8/dist-packages (1.81)\n",
      "Requirement already satisfied: numpy in /usr/local/lib/python3.8/dist-packages (from biopython) (1.24.2)\n"
     ]
    },
    {
     "name": "stderr",
     "output_type": "stream",
     "text": [
      "DEPRECATION: distro-info 0.23ubuntu1 has a non-standard version number. pip 24.0 will enforce this behaviour change. A possible replacement is to upgrade to a newer version of distro-info or contact the author to suggest that they release a version with a conforming version number. Discussion can be found at https://github.com/pypa/pip/issues/12063\n",
      "DEPRECATION: gpg 1.13.1-unknown has a non-standard version number. pip 24.0 will enforce this behaviour change. A possible replacement is to upgrade to a newer version of gpg or contact the author to suggest that they release a version with a conforming version number. Discussion can be found at https://github.com/pypa/pip/issues/12063\n",
      "DEPRECATION: python-debian 0.1.36ubuntu1 has a non-standard version number. pip 24.0 will enforce this behaviour change. A possible replacement is to upgrade to a newer version of python-debian or contact the author to suggest that they release a version with a conforming version number. Discussion can be found at https://github.com/pypa/pip/issues/12063\n"
     ]
    },
    {
     "name": "stdout",
     "output_type": "stream",
     "text": [
      "biopython (1.81) is installed\n",
      "Defaulting to user installation because normal site-packages is not writeable\n",
      "Requirement already satisfied: pandas in /usr/local/lib/python3.8/dist-packages (1.5.0)\n",
      "Requirement already satisfied: python-dateutil>=2.8.1 in /home/parnian/.local/lib/python3.8/site-packages (from pandas) (2.8.2)\n",
      "Requirement already satisfied: pytz>=2020.1 in /usr/local/lib/python3.8/dist-packages (from pandas) (2022.2.1)\n",
      "Requirement already satisfied: numpy>=1.20.3 in /usr/local/lib/python3.8/dist-packages (from pandas) (1.24.2)\n",
      "Requirement already satisfied: six>=1.5 in /usr/lib/python3/dist-packages (from python-dateutil>=2.8.1->pandas) (1.14.0)\n",
      "pandas (1.5.0) is installed\n"
     ]
    },
    {
     "name": "stderr",
     "output_type": "stream",
     "text": [
      "DEPRECATION: distro-info 0.23ubuntu1 has a non-standard version number. pip 24.0 will enforce this behaviour change. A possible replacement is to upgrade to a newer version of distro-info or contact the author to suggest that they release a version with a conforming version number. Discussion can be found at https://github.com/pypa/pip/issues/12063\n",
      "DEPRECATION: gpg 1.13.1-unknown has a non-standard version number. pip 24.0 will enforce this behaviour change. A possible replacement is to upgrade to a newer version of gpg or contact the author to suggest that they release a version with a conforming version number. Discussion can be found at https://github.com/pypa/pip/issues/12063\n",
      "DEPRECATION: python-debian 0.1.36ubuntu1 has a non-standard version number. pip 24.0 will enforce this behaviour change. A possible replacement is to upgrade to a newer version of python-debian or contact the author to suggest that they release a version with a conforming version number. Discussion can be found at https://github.com/pypa/pip/issues/12063\n"
     ]
    }
   ],
   "source": [
    "import sys\n",
    "import subprocess\n",
    "import pkg_resources\n",
    "\n",
    "def install(package):\n",
    "    subprocess.check_call([sys.executable, \"-m\", \"pip\", \"install\", package])\n",
    "\n",
    "REQUIRED_PACKAGES = [\n",
    "    'bioblend',\n",
    "    'biopython',\n",
    "    'pandas'\n",
    "]\n",
    "\n",
    "for package in REQUIRED_PACKAGES:\n",
    "    try:\n",
    "        subprocess.check_call([sys.executable, \"-m\", \"pip\", \"install\", package, '--default-timeout=100'])\n",
    "        dist = pkg_resources.get_distribution(package)\n",
    "        print('{} ({}) is installed'.format(dist.key, dist.version))\n",
    "    except pkg_resources.DistributionNotFound:\n",
    "        print('{} is NOT installed'.format(package))\n",
    "        subprocess.check_call([sys.executable, \"-m\", \"pip\", \"install\", package, '--default-timeout=100'])\n",
    "        install(package)\n",
    "        print('{} was successfully installed.'.format(package))"
   ]
  },
  {
   "cell_type": "markdown",
   "metadata": {},
   "source": [
    "## Part 1: Assembling Using Galaxy\n",
    "\n",
    "#### Option 1: Python Notebook\n",
    "\n",
    "Finish this section of notebook to assemble a genome from a fasta file with short-read sequences.\n",
    "\n",
    "#### Option 2: Galaxy Web Interface\n",
    "\n",
    "Alternatively, you can use the Galaxy web interface at usegalaxy.org to complete the assembly. This approach allows you to experience the ease and efficiency of Galaxy's web-based tools.\n"
   ]
  },
  {
   "cell_type": "code",
   "execution_count": 13,
   "metadata": {},
   "outputs": [
    {
     "name": "stdout",
     "output_type": "stream",
     "text": [
      "Collecting python-dotenv\n",
      "  Downloading python_dotenv-1.0.1-py3-none-any.whl (19 kB)\n",
      "Installing collected packages: python-dotenv\n",
      "Successfully installed python-dotenv-1.0.1\n"
     ]
    }
   ],
   "source": [
    "! pip install python-dotenv"
   ]
  },
  {
   "cell_type": "code",
   "execution_count": null,
   "metadata": {},
   "outputs": [],
   "source": [
    "from dotenv import load_dotenv\n",
    "import os\n",
    "\n",
    "# Load environment variables from .env file\n",
    "load_dotenv(dotenv_path='/home/parnian/.env')\n",
    "\n",
    "# You can create your API key by registering at usegalaxy website, and from user settings section. \n",
    "# It is recommended that you store this key as an environment variable, and not expose it!\n",
    "api_key = os.getenv('GALAXY_API_KEY')"
   ]
  },
  {
   "cell_type": "markdown",
   "metadata": {},
   "source": [
    "### We chose the Galaxy Web Interface"
   ]
  },
  {
   "cell_type": "markdown",
   "metadata": {},
   "source": [
    "### We used SPAdes, cause it's suitable for short-read assembly"
   ]
  },
  {
   "cell_type": "code",
   "execution_count": 30,
   "metadata": {},
   "outputs": [
    {
     "data": {
      "text/plain": [
       "'assembled_genome.fasta'"
      ]
     },
     "execution_count": 30,
     "metadata": {},
     "output_type": "execute_result"
    }
   ],
   "source": [
    "# Download the assembled genome from Galaxy. You can use the `download_dataset` method. A FASTA file, containing assembly\n",
    "# of the whole sequence is what we expect here. \n",
    "from bioblend.galaxy import GalaxyInstance\n",
    "\n",
    "gi = GalaxyInstance(url='https://usegalaxy.org', key=api_key)\n",
    "\n",
    "# https://usegalaxy.org/api/datasets/f9cad7b01a47213568ca8b1db8738d93/display?to_ext=fasta\n",
    "\n",
    "dataset_id = 'f9cad7b01a47213568ca8b1db8738d93'\n",
    "file_path = 'assembled_genome.fasta' \n",
    "\n",
    "gi.datasets.download_dataset(dataset_id, file_path=file_path, use_default_filename=False)\n",
    "\n"
   ]
  },
  {
   "cell_type": "markdown",
   "metadata": {},
   "source": [
    "### Part 2: Using BLAST to Query The Assembled Sequence\n",
    "\n",
    "In this part of the notebook, you will utilize the NCBI BLAST API to analyze the genome sequence you've assembled. This involves integrating the API into your notebook, submitting your sequence for BLAST querying, and then meticulously examining the results. Your focus will be on identifying similarities or unique traits in the sequence compared to others in the NCBI database, particularly exploring its relationship with known sequences in various species. This step is crucial for understanding the evolutionary and biological significance of your assembled genome.\n",
    "\n",
    "**Note**: Unlike the previous section, for this one, you must deliver the full code in the notebook. Doing this part using website will not be graded. "
   ]
  },
  {
   "cell_type": "code",
   "execution_count": 1,
   "metadata": {},
   "outputs": [],
   "source": [
    "# Import necessary libraries\n",
    "from Bio.Blast import NCBIWWW\n",
    "from Bio.Blast import NCBIXML\n",
    "from collections import defaultdict\n",
    "\n"
   ]
  },
  {
   "cell_type": "code",
   "execution_count": 2,
   "metadata": {},
   "outputs": [
    {
     "data": {
      "text/plain": [
       "'>NODE_1_length_3002_cov_4.078291\\nGATAGTCGGGTTGGAAACTTACTATCCTTTCTTCTTGGTGTTTAAATAAATCTCCCAAAG\\nGTATCTCTTCAGCTTCCTCGTGCTGAATAAGATAACCCGGTGGAACAGGAGTAGTAGTGG\\nGAGGTATAACAGCTCTTAATGATTCGGCTATTTCATGCATGCCCTGTGTAGTCTGCCAGA\\nAGTCTTCAATGAGATCCACAAAGTGAGTTGCAATCAAAACATGTTTCTTTATTGAATCTG\\nATTTCCAATAAGGCTCTAAAGCGTCTTTAGCATCTCTAACAAGATCATCTATTTTTGGAA\\nAGAAATCATCTGGTAGATCATACACATTGGCTAAGGCTCTAGAAGCATTGATATCCATAT\\nATAAGCAAGAATCATAAACAATGGTACATACCAAAGGTACAGTCACACACGACAACAGCA\\nATGTAGACGTAAAGATACCTTGGCAAGCAGCTCCGAAGGAGAGGGGTGTAATTCTTAAGT\\nTCCACATAGCCTATGTGGAATATATATTGCTTTCGAGAGAGGGGTGTATGGAAAAGCCGT\\nCCAATCAGGAGGTTTGTGCCTGGATGGGCCGTCAGCAGGATTATATTTGCTCGGGACAAA\\nGTACAATTGTATCGGTTTGAGCAATTGTTTGGCCAACATAGCAAAATGCCATGGTAACGT\\nCTGATAACGCTTATGGCAAACAAAAGTTGAATCAGATAAGAGACAACGTGGTTTAATCAT\\nTATCTTGGCTAAACAAGACATCAATAGTTCCTGAACATGTATATCTCTGACCTTTGAAAA\\nAGCAAACACTGCGCTCCCGCCGGTGATATGGGATATTGCGCCATGTGTTGGGGTAGCATC\\nTGTAGCTACACGTGGCAAAGGTACAGAGGACTTTGGCTTTATTCTTAATTTACACACACC\\nCATTGTTAGTTTATATAACAAAGTCCTATAGGATGAAGAGAAGCTAAAGTTTACTTGGTT\\nAGTAATAGCAGCATACATTGGTTTTAACATTTCAATATTACCTTTAGTAAAAGGCAAAAC\\nAAAATTCAAATGCCCCACAAATCTTTGAATACATTTCCAGTCATACCATTCTCCTACTTT\\nTATTTTCTTGATTACAGTCCTTAATTCTTTCCATCTGCTTTCTTCAATCTTCATGAAATT\\nTTCATCAATCTGGTAACCGAGGAATCTTATTTCATTCACCGGAGAAGGCGTGGTTTTGTC\\nAAAGTTTATTCTTATTCCTAACTCTTGTAAAAAAGAGCAGACAGCGTGGCTAATTGCGTT\\nAAGGTGACGAGCGTTTGGGTGGCAGAGGAGGAAGTCATCCATATAAGTGAAAGTCCAAAC\\nGTTAAAGCGACGAGAGATTTCGGATCCGAGGGCAGTAGTGAAGAGATGGAGGAGAAAAGG\\nGCTGAGACCGACGCCCATTGGAGCTTTCCTAAAATAGTAGACCCGTTGTCCGTCAGATAC\\nAGCAAGCCTGCTGCTACTAGCAGGATTAAGAGGAAGATGATAAAAAGCCTGAGATAGGTC\\nCAAAGAAATCCTGGGCATCCCCACGGGCAAGATCCTACGTAATGTGGAGAGATTTGGGCT\\nCCAGTATCTTGGAAAGCGCATTGCATTTTTCCCTTTGGAGAACTGAGAGAAATCCACCAC\\nCAATCTAGCCTCCTCAGTATTTCTAGAATTTTTATCAACAAGAAAAAGCTTACCAGTAAT\\nCCGATTAGGCCAGCTAGTATTCCCCCGAAGGTACCAGACATTTTCTTCTTCAAGGGGGGA\\nGTTTTTATCACTGGCACCGCTGGTTCTGACTGGTATAGCGGATGAGTCTCGAGGAGAGAC\\nTGATTTCCCAGGAGTGGATCGTCCCCGGGTTGTAGCTTCCACTGAGGAGGGGAAGACGGA\\nGGAATGGTGGTGGTTTCCGGTGGTCTTTCTTCTTGATAACGGCGAAAAGCTTCGCGTGCT\\nTTTTGGTCTTCCTCGGGAGTCCACTGGGGCTGAGGAATCTCTTGAGGAGTCGGATTTGAT\\nAATCCTACTCTCCTTCCCGCCCCAGCAGGCCAAGCTCCCTGATTCTGGAGGGTGTTTATC\\nTCCTCCATTGTTTGCACATGGTCTAACACGTGATCTAGTGTTGGAAACTTGCCTGACCAT\\nGTCAAAGTCCCTTTTGGGATCATCCTTCCGGCAAGTTGGTTTAACAGTATTTCTCCTCCT\\nTCTATCCGTCTGACGTCCATTGATTTTGCTGGATGTTGCCCCATCATAAATGTGATGTTG\\nATTGACAAGGTGTTGCTGTTCCCAATTATAAGGCTGACCTTTAAATGTGACCAAATGTTT\\nAGATATCCGCTTATAAAGGATTCCTGCTTCATAGAGCCTGGTTAAATATTTACCTACTAT\\nTGATTCATGTTGCATCACATTGTCAGGATACTTTGGTTTAACCCCTACCTGGACAGGAAA\\nGTAGGAAATGCTCTTGGGCCAGAATTTGGCTGGAGTCAAATATTTCCAATTTCGGGAAGG\\nGCACTCATTAACTACATCTAAATTAAAATGAGTATCCGAAATATCTGGTACTTTCCATTC\\nTGGGTTAAAAGTACAGCCCTTCATTTGATATAGTCCTGACAATTTACCTAAGTGATGCCT\\nAGCAGGTAATTTATTTCCTAGGCGAGGGAGATCTATGGTGGCTGCTCGAACTACGTGGGA\\nGAGGGGAGCCCGCACGTTGGGGTGTAGGGGCTCTCCTTTCCCGGGACTTTGAACGTCTTC\\nTCCCATAGACAACTGTGGTTTTAACTTTTCTTCTTCTAGGTTCGAGTCCACGAGGTTTTC\\nTAGTACCCGTAGTTGTTTTTCTGCCTCCCTGAGCCACCTGGATTGGTCTAGTGATTGCTT\\nCAATGGTCGGGGCATCTCTACCTCTATATTTCTCAGGAGTTGACAACCAAGTACGCAAAC\\nGAGAAATATAGTTAGTAACTTGAGCTTCTCCCCACAGTAAACAGTTGTAATGCCACCAAA\\nGCAATCTCCTAGCCCTATCCAGTGATTCCTCGTTAATTTTTGCATAAGCTTTCAAATGAG\\nCA\\n'"
      ]
     },
     "execution_count": 2,
     "metadata": {},
     "output_type": "execute_result"
    }
   ],
   "source": [
    "# Load the assembled genome\n",
    "with open('assembled_genome.fasta', 'r') as file:\n",
    "    assembled_genome = file.read()\n",
    "\n",
    "assembled_genome"
   ]
  },
  {
   "cell_type": "code",
   "execution_count": 11,
   "metadata": {},
   "outputs": [],
   "source": [
    "from Bio.Blast import NCBIWWW\n",
    "\n",
    "# Perform the BLAST query, filtering for eukaryotes\n",
    "\n",
    "\n",
    "\n",
    "result_handle = NCBIWWW.qblast(program=\"blastn\", \n",
    "                               database=\"nt\", \n",
    "                               sequence=assembled_genome,\n",
    "                               entrez_query='txid2759[Organism]', \n",
    "                               hitlist_size=100, \n",
    "                               word_size=16)\n",
    "\n"
   ]
  },
  {
   "cell_type": "code",
   "execution_count": 47,
   "metadata": {},
   "outputs": [],
   "source": [
    "with open(\"my_blast_results.xml\", \"w\") as out_handle:\n",
    "    out_handle.write(result_handle.read())\n"
   ]
  },
  {
   "cell_type": "code",
   "execution_count": 61,
   "metadata": {},
   "outputs": [],
   "source": [
    "\n",
    "result_handle.close()\n",
    "result_handle = open(\"my_blast_results.xml\")"
   ]
  },
  {
   "cell_type": "code",
   "execution_count": 63,
   "metadata": {},
   "outputs": [
    {
     "data": {
      "text/plain": [
       "<generator object parse at 0x7f8ee46b2430>"
      ]
     },
     "execution_count": 63,
     "metadata": {},
     "output_type": "execute_result"
    }
   ],
   "source": [
    "from Bio.Blast import NCBIXML\n",
    "\n",
    "blast_records = NCBIXML.parse(result_handle)\n",
    "\n",
    "blast_records"
   ]
  },
  {
   "cell_type": "code",
   "execution_count": 55,
   "metadata": {},
   "outputs": [],
   "source": [
    "import pandas as pd\n",
    "from Bio import Entrez\n",
    "\n",
    "# Set your email here for Entrez\n",
    "Entrez.email = \"razaviparnian81@gmail.com\"\n",
    "\n",
    "def fetch_taxonomy_info(accession):\n",
    "    \"\"\"\n",
    "    Fetch taxonomy information using Entrez for a given accession number.\n",
    "    \"\"\"\n",
    "    handle = Entrez.efetch(db=\"nucleotide\", id=accession, retmode=\"xml\")\n",
    "    records = Entrez.read(handle)\n",
    "    \n",
    "    taxonomy = records[0]['GBSeq_taxonomy']\n",
    "    species = records[0]['GBSeq_organism']\n",
    "    \n",
    "    return taxonomy, species\n",
    "\n",
    "\n",
    "def parse_blast_results(blast_records):\n",
    "    \"\"\"\n",
    "    Parse BLAST results and extract relevant information including taxonomy.\n",
    "    \"\"\"\n",
    "    blast_results = []\n",
    "\n",
    "    for record in blast_records:\n",
    "        for alignment in record.alignments:\n",
    "            accession = alignment.accession\n",
    "            taxonomy, species = fetch_taxonomy_info(accession)\n",
    "            for hsp in alignment.hsps:\n",
    "                # These fields are required in your submission\n",
    "                blast_results.append({\n",
    "                    'query_id': record.query_id,\n",
    "                    'alignment_title': alignment.title,\n",
    "                    'e_value': hsp.expect,\n",
    "                    'identity': hsp.identities,\n",
    "                    'accession': accession,\n",
    "                    'taxonomy': taxonomy,\n",
    "                    'species': species\n",
    "                })\n",
    "    return blast_results\n",
    "\n"
   ]
  },
  {
   "cell_type": "code",
   "execution_count": 56,
   "metadata": {},
   "outputs": [
    {
     "data": {
      "text/html": [
       "<div>\n",
       "<style scoped>\n",
       "    .dataframe tbody tr th:only-of-type {\n",
       "        vertical-align: middle;\n",
       "    }\n",
       "\n",
       "    .dataframe tbody tr th {\n",
       "        vertical-align: top;\n",
       "    }\n",
       "\n",
       "    .dataframe thead th {\n",
       "        text-align: right;\n",
       "    }\n",
       "</style>\n",
       "<table border=\"1\" class=\"dataframe\">\n",
       "  <thead>\n",
       "    <tr style=\"text-align: right;\">\n",
       "      <th></th>\n",
       "      <th>query_id</th>\n",
       "      <th>alignment_title</th>\n",
       "      <th>e_value</th>\n",
       "      <th>identity</th>\n",
       "      <th>accession</th>\n",
       "      <th>taxonomy</th>\n",
       "      <th>species</th>\n",
       "    </tr>\n",
       "  </thead>\n",
       "  <tbody>\n",
       "    <tr>\n",
       "      <th>0</th>\n",
       "      <td>Query_2457359</td>\n",
       "      <td>gi|389587610|gb|JQ978784.1| Melopsittacus undu...</td>\n",
       "      <td>0.000000e+00</td>\n",
       "      <td>1168</td>\n",
       "      <td>JQ978784</td>\n",
       "      <td>Eukaryota; Metazoa; Chordata; Craniata; Verteb...</td>\n",
       "      <td>Melopsittacus undulatus</td>\n",
       "    </tr>\n",
       "    <tr>\n",
       "      <th>1</th>\n",
       "      <td>Query_2457359</td>\n",
       "      <td>gi|389587610|gb|JQ978784.1| Melopsittacus undu...</td>\n",
       "      <td>4.413000e-61</td>\n",
       "      <td>532</td>\n",
       "      <td>JQ978784</td>\n",
       "      <td>Eukaryota; Metazoa; Chordata; Craniata; Verteb...</td>\n",
       "      <td>Melopsittacus undulatus</td>\n",
       "    </tr>\n",
       "    <tr>\n",
       "      <th>2</th>\n",
       "      <td>Query_2457359</td>\n",
       "      <td>gi|389587608|gb|JQ978782.1| Melopsittacus undu...</td>\n",
       "      <td>0.000000e+00</td>\n",
       "      <td>1168</td>\n",
       "      <td>JQ978782</td>\n",
       "      <td>Eukaryota; Metazoa; Chordata; Craniata; Verteb...</td>\n",
       "      <td>Melopsittacus undulatus</td>\n",
       "    </tr>\n",
       "    <tr>\n",
       "      <th>3</th>\n",
       "      <td>Query_2457359</td>\n",
       "      <td>gi|389587608|gb|JQ978782.1| Melopsittacus undu...</td>\n",
       "      <td>1.876450e-59</td>\n",
       "      <td>531</td>\n",
       "      <td>JQ978782</td>\n",
       "      <td>Eukaryota; Metazoa; Chordata; Craniata; Verteb...</td>\n",
       "      <td>Melopsittacus undulatus</td>\n",
       "    </tr>\n",
       "    <tr>\n",
       "      <th>4</th>\n",
       "      <td>Query_2457359</td>\n",
       "      <td>gi|389587607|gb|JQ978781.1| Melopsittacus undu...</td>\n",
       "      <td>0.000000e+00</td>\n",
       "      <td>1168</td>\n",
       "      <td>JQ978781</td>\n",
       "      <td>Eukaryota; Metazoa; Chordata; Craniata; Verteb...</td>\n",
       "      <td>Melopsittacus undulatus</td>\n",
       "    </tr>\n",
       "  </tbody>\n",
       "</table>\n",
       "</div>"
      ],
      "text/plain": [
       "        query_id                                    alignment_title  \\\n",
       "0  Query_2457359  gi|389587610|gb|JQ978784.1| Melopsittacus undu...   \n",
       "1  Query_2457359  gi|389587610|gb|JQ978784.1| Melopsittacus undu...   \n",
       "2  Query_2457359  gi|389587608|gb|JQ978782.1| Melopsittacus undu...   \n",
       "3  Query_2457359  gi|389587608|gb|JQ978782.1| Melopsittacus undu...   \n",
       "4  Query_2457359  gi|389587607|gb|JQ978781.1| Melopsittacus undu...   \n",
       "\n",
       "        e_value  identity accession  \\\n",
       "0  0.000000e+00      1168  JQ978784   \n",
       "1  4.413000e-61       532  JQ978784   \n",
       "2  0.000000e+00      1168  JQ978782   \n",
       "3  1.876450e-59       531  JQ978782   \n",
       "4  0.000000e+00      1168  JQ978781   \n",
       "\n",
       "                                            taxonomy                  species  \n",
       "0  Eukaryota; Metazoa; Chordata; Craniata; Verteb...  Melopsittacus undulatus  \n",
       "1  Eukaryota; Metazoa; Chordata; Craniata; Verteb...  Melopsittacus undulatus  \n",
       "2  Eukaryota; Metazoa; Chordata; Craniata; Verteb...  Melopsittacus undulatus  \n",
       "3  Eukaryota; Metazoa; Chordata; Craniata; Verteb...  Melopsittacus undulatus  \n",
       "4  Eukaryota; Metazoa; Chordata; Craniata; Verteb...  Melopsittacus undulatus  "
      ]
     },
     "execution_count": 56,
     "metadata": {},
     "output_type": "execute_result"
    }
   ],
   "source": [
    "\n",
    "blast_results = parse_blast_results(blast_records)\n",
    "df = pd.DataFrame(blast_results)\n",
    "df.to_csv('blast_results_with_taxonomy.csv', index=False)\n",
    "\n",
    "df.head()"
   ]
  },
  {
   "cell_type": "markdown",
   "metadata": {},
   "source": [
    "## Analysis of The Results\n",
    "\n",
    "### Drawing Your Own Conclusions\n",
    "\n",
    "Now that you have completed the BLAST search, a fascinating part of your journey begins – interpreting the data. This stage is where your critical thinking and creativity come into play. From now on, the rest of the notebook will be about whatever you want it to be. Any path that leads to meaningful insights about the data and provides a solid conclusion for the task is acceptable. Let's explore some possible directions:\n",
    "\n",
    "1. **Species-Specific Patterns:** Examine if the sequence is found exclusively or predominantly in certain species. What could this suggest about its evolution and adaptation? While the focus is not on finding a 'correct' answer, pondering this aspect can lead to interesting hypotheses about species-specific interactions.\n",
    "\n",
    "2. **Functional Insights:** Reflect on the potential roles this sequence might play within the genomes where it's found. Could it be integral to certain biological functions, or a legacy of ancient genomic events?\n",
    "\n",
    "3. **Comparative Genomics:** Compare your findings with sequences in other species. Notice any striking similarities or differences? These comparisons could shed light on the sequence's evolutionary journey.\n",
    "\n",
    "4. **Ecological and Environmental Context:** Consider the ecological and environmental factors that might influence the distribution and evolution of this sequence. How might habitat or lifestyle of the species play a role in its presence or absence?\n",
    "\n",
    "### Additional Tips and Encouragement\n",
    "\n",
    "This project is more about the learning journey and less about achieving perfect results. Here are some additional pointers:\n",
    "\n",
    "1. **Deep Dives:** Encourage yourself to explore the data thoroughly. Use various bioinformatics tools to gain a holistic understanding.\n",
    "\n",
    "2. **Creative Visualization:** Craft visual representations of your analysis. Effective use of charts or infographics can provide insightful perspectives.\n",
    "\n",
    "3. **Open-Ended Exploration:** Feel free to extend your analysis in directions you find intriguing. This could include phylogenetic studies or exploring the ecological aspects of the sequence.\n",
    "\n",
    "Remember, this project is designed to be a learning experience. We don't expect you to uncover all the answers but rather to engage thoughtfully with the data and enjoy the process of discovery."
   ]
  },
  {
   "cell_type": "code",
   "execution_count": 66,
   "metadata": {},
   "outputs": [
    {
     "data": {
      "text/html": [
       "<div>\n",
       "<style scoped>\n",
       "    .dataframe tbody tr th:only-of-type {\n",
       "        vertical-align: middle;\n",
       "    }\n",
       "\n",
       "    .dataframe tbody tr th {\n",
       "        vertical-align: top;\n",
       "    }\n",
       "\n",
       "    .dataframe thead th {\n",
       "        text-align: right;\n",
       "    }\n",
       "</style>\n",
       "<table border=\"1\" class=\"dataframe\">\n",
       "  <thead>\n",
       "    <tr style=\"text-align: right;\">\n",
       "      <th></th>\n",
       "      <th>query_id</th>\n",
       "      <th>alignment_title</th>\n",
       "      <th>e_value</th>\n",
       "      <th>identity</th>\n",
       "      <th>accession</th>\n",
       "      <th>taxonomy</th>\n",
       "      <th>species</th>\n",
       "    </tr>\n",
       "  </thead>\n",
       "  <tbody>\n",
       "    <tr>\n",
       "      <th>0</th>\n",
       "      <td>Query_2457359</td>\n",
       "      <td>gi|389587610|gb|JQ978784.1| Melopsittacus undu...</td>\n",
       "      <td>0.000000e+00</td>\n",
       "      <td>1168</td>\n",
       "      <td>JQ978784</td>\n",
       "      <td>Eukaryota; Metazoa; Chordata; Craniata; Verteb...</td>\n",
       "      <td>Melopsittacus undulatus</td>\n",
       "    </tr>\n",
       "    <tr>\n",
       "      <th>1</th>\n",
       "      <td>Query_2457359</td>\n",
       "      <td>gi|389587610|gb|JQ978784.1| Melopsittacus undu...</td>\n",
       "      <td>4.413000e-61</td>\n",
       "      <td>532</td>\n",
       "      <td>JQ978784</td>\n",
       "      <td>Eukaryota; Metazoa; Chordata; Craniata; Verteb...</td>\n",
       "      <td>Melopsittacus undulatus</td>\n",
       "    </tr>\n",
       "    <tr>\n",
       "      <th>2</th>\n",
       "      <td>Query_2457359</td>\n",
       "      <td>gi|389587608|gb|JQ978782.1| Melopsittacus undu...</td>\n",
       "      <td>0.000000e+00</td>\n",
       "      <td>1168</td>\n",
       "      <td>JQ978782</td>\n",
       "      <td>Eukaryota; Metazoa; Chordata; Craniata; Verteb...</td>\n",
       "      <td>Melopsittacus undulatus</td>\n",
       "    </tr>\n",
       "    <tr>\n",
       "      <th>3</th>\n",
       "      <td>Query_2457359</td>\n",
       "      <td>gi|389587608|gb|JQ978782.1| Melopsittacus undu...</td>\n",
       "      <td>1.876450e-59</td>\n",
       "      <td>531</td>\n",
       "      <td>JQ978782</td>\n",
       "      <td>Eukaryota; Metazoa; Chordata; Craniata; Verteb...</td>\n",
       "      <td>Melopsittacus undulatus</td>\n",
       "    </tr>\n",
       "    <tr>\n",
       "      <th>4</th>\n",
       "      <td>Query_2457359</td>\n",
       "      <td>gi|389587607|gb|JQ978781.1| Melopsittacus undu...</td>\n",
       "      <td>0.000000e+00</td>\n",
       "      <td>1168</td>\n",
       "      <td>JQ978781</td>\n",
       "      <td>Eukaryota; Metazoa; Chordata; Craniata; Verteb...</td>\n",
       "      <td>Melopsittacus undulatus</td>\n",
       "    </tr>\n",
       "  </tbody>\n",
       "</table>\n",
       "</div>"
      ],
      "text/plain": [
       "        query_id                                    alignment_title  \\\n",
       "0  Query_2457359  gi|389587610|gb|JQ978784.1| Melopsittacus undu...   \n",
       "1  Query_2457359  gi|389587610|gb|JQ978784.1| Melopsittacus undu...   \n",
       "2  Query_2457359  gi|389587608|gb|JQ978782.1| Melopsittacus undu...   \n",
       "3  Query_2457359  gi|389587608|gb|JQ978782.1| Melopsittacus undu...   \n",
       "4  Query_2457359  gi|389587607|gb|JQ978781.1| Melopsittacus undu...   \n",
       "\n",
       "        e_value  identity accession  \\\n",
       "0  0.000000e+00      1168  JQ978784   \n",
       "1  4.413000e-61       532  JQ978784   \n",
       "2  0.000000e+00      1168  JQ978782   \n",
       "3  1.876450e-59       531  JQ978782   \n",
       "4  0.000000e+00      1168  JQ978781   \n",
       "\n",
       "                                            taxonomy                  species  \n",
       "0  Eukaryota; Metazoa; Chordata; Craniata; Verteb...  Melopsittacus undulatus  \n",
       "1  Eukaryota; Metazoa; Chordata; Craniata; Verteb...  Melopsittacus undulatus  \n",
       "2  Eukaryota; Metazoa; Chordata; Craniata; Verteb...  Melopsittacus undulatus  \n",
       "3  Eukaryota; Metazoa; Chordata; Craniata; Verteb...  Melopsittacus undulatus  \n",
       "4  Eukaryota; Metazoa; Chordata; Craniata; Verteb...  Melopsittacus undulatus  "
      ]
     },
     "execution_count": 66,
     "metadata": {},
     "output_type": "execute_result"
    }
   ],
   "source": [
    "import pandas as pd\n",
    "\n",
    "df = pd.read_csv('blast_results_with_taxonomy.csv')\n",
    "\n",
    "df.head()\n"
   ]
  },
  {
   "cell_type": "code",
   "execution_count": 67,
   "metadata": {},
   "outputs": [
    {
     "name": "stdout",
     "output_type": "stream",
     "text": [
      "Melopsittacus undulatus             32\n",
      "Phalacrocorax aristotelis            9\n",
      "Phalacrocorax carbo                  7\n",
      "Fringilla coelebs                    6\n",
      "Psittacula echo                      6\n",
      "Prunella modularis modularis         4\n",
      "Carpodacus erythrinus erythrinus     4\n",
      "Haliaeetus albicilla                 3\n",
      "Anthus pratensis pratensis           3\n",
      "Micromys minutus                     3\n",
      "Name: species, dtype: int64\n"
     ]
    }
   ],
   "source": [
    "species_counts = df['species'].value_counts()\n",
    "print(species_counts.head(10))"
   ]
  },
  {
   "cell_type": "markdown",
   "metadata": {},
   "source": [
    "#### First BLAST Search: \n",
    "This would be done with our assembled genome sequence without specific filtering, to identify the highest matches. This is to understand what the sequence does in the genome of the organisms that show the highest similarity.\n",
    "\n",
    "#### Second BLAST Search: \n",
    "This search is similar to the first one, but specifically filters for Eukaryotes. We would analyze the results to find a common characteristic among the organisms that are returned as hits. **We already have what we need fot this part in the privious section**.\n"
   ]
  },
  {
   "cell_type": "markdown",
   "metadata": {},
   "source": [
    "##### **First BLAST Search**"
   ]
  },
  {
   "cell_type": "code",
   "execution_count": 2,
   "metadata": {},
   "outputs": [],
   "source": [
    "from Bio.Blast import NCBIWWW\n",
    "from Bio import SeqIO\n",
    "\n",
    "with open('assembled_genome.fasta', 'r') as file:\n",
    "    assembled_genome = SeqIO.read(file, format=\"fasta\").seq\n",
    "\n",
    "\n",
    "result_handle = NCBIWWW.qblast(program=\"blastn\", \n",
    "                               database=\"nt\", \n",
    "                               sequence=assembled_genome, \n",
    "                               hitlist_size=100, \n",
    "                               word_size=16)\n",
    "\n",
    "\n",
    "with open(\"blast_results_without_filtering.xml\", \"w\") as out_handle:\n",
    "    out_handle.write(result_handle.read())\n",
    "\n",
    "result_handle.close()\n",
    "\n",
    "\n"
   ]
  },
  {
   "cell_type": "code",
   "execution_count": 3,
   "metadata": {},
   "outputs": [
    {
     "name": "stdout",
     "output_type": "stream",
     "text": [
      "      query_id                                    alignment_title  e_value  \\\n",
      "0  Query_71485  gi|325431|gb|K01834.1|HPUCGD Duck hepatitis B ...      0.0   \n",
      "1  Query_71485  gi|33088057|gb|AY250901.1| Duck hepatitis B vi...      0.0   \n",
      "2  Query_71485  gi|33088061|gb|AY250902.1| Duck hepatitis B vi...      0.0   \n",
      "3  Query_71485  gi|20136726|gb|AF493986.1| Duck hepatitis B vi...      0.0   \n",
      "4  Query_71485  gi|2982230|gb|AF047045.1| Duck hepatitis B vir...      0.0   \n",
      "\n",
      "    score  identities  alignment_length  \n",
      "0  6004.0        3002              3002  \n",
      "1  5924.0        2986              3002  \n",
      "2  5919.0        2985              3002  \n",
      "3  5909.0        2983              3002  \n",
      "4  5904.0        2982              3002  \n"
     ]
    }
   ],
   "source": [
    "from Bio.Blast import NCBIXML\n",
    "import pandas as pd\n",
    "\n",
    "with open('blast_results_without_filtering.xml', 'r') as result_handle:\n",
    "    blast_records_first_search = NCBIXML.parse(result_handle)\n",
    "\n",
    "    hits_first_search = []\n",
    "    for record in blast_records_first_search:\n",
    "        for alignment in record.alignments:\n",
    "            for hsp in alignment.hsps:\n",
    "                hit_info = {\n",
    "                    'query_id': record.query_id,\n",
    "                    'alignment_title': alignment.title,\n",
    "                    'e_value': hsp.expect,\n",
    "                    'score': hsp.score,\n",
    "                    'identities': hsp.identities,\n",
    "                    'alignment_length': hsp.align_length\n",
    "                }\n",
    "                hits_first_search.append(hit_info)\n",
    "\n",
    "df_hits_first_search = pd.DataFrame(hits_first_search)\n",
    "print(df_hits_first_search.head())\n",
    "\n",
    "df_hits_first_search.to_csv('blast_results_without_filtering.csv', index=False, mode='w')\n",
    "\n",
    "\n"
   ]
  },
  {
   "cell_type": "code",
   "execution_count": 5,
   "metadata": {},
   "outputs": [
    {
     "data": {
      "text/plain": [
       "(      query_id                                    alignment_title  e_value  \\\n",
       " 0  Query_71485  gi|325431|gb|K01834.1|HPUCGD Duck hepatitis B ...      0.0   \n",
       " 1  Query_71485  gi|33088057|gb|AY250901.1| Duck hepatitis B vi...      0.0   \n",
       " 2  Query_71485  gi|33088061|gb|AY250902.1| Duck hepatitis B vi...      0.0   \n",
       " 3  Query_71485  gi|20136726|gb|AF493986.1| Duck hepatitis B vi...      0.0   \n",
       " 4  Query_71485  gi|2982230|gb|AF047045.1| Duck hepatitis B vir...      0.0   \n",
       " \n",
       "     score  identities  alignment_length  \n",
       " 0  6004.0        3002              3002  \n",
       " 1  5924.0        2986              3002  \n",
       " 2  5919.0        2985              3002  \n",
       " 3  5909.0        2983              3002  \n",
       " 4  5904.0        2982              3002  ,\n",
       "         query_id                                    alignment_title  \\\n",
       " 0  Query_2457359  gi|389587610|gb|JQ978784.1| Melopsittacus undu...   \n",
       " 1  Query_2457359  gi|389587610|gb|JQ978784.1| Melopsittacus undu...   \n",
       " 2  Query_2457359  gi|389587608|gb|JQ978782.1| Melopsittacus undu...   \n",
       " 3  Query_2457359  gi|389587608|gb|JQ978782.1| Melopsittacus undu...   \n",
       " 4  Query_2457359  gi|389587607|gb|JQ978781.1| Melopsittacus undu...   \n",
       " \n",
       "         e_value  identity accession  \\\n",
       " 0  0.000000e+00      1168  JQ978784   \n",
       " 1  4.413000e-61       532  JQ978784   \n",
       " 2  0.000000e+00      1168  JQ978782   \n",
       " 3  1.876450e-59       531  JQ978782   \n",
       " 4  0.000000e+00      1168  JQ978781   \n",
       " \n",
       "                                             taxonomy                  species  \n",
       " 0  Eukaryota; Metazoa; Chordata; Craniata; Verteb...  Melopsittacus undulatus  \n",
       " 1  Eukaryota; Metazoa; Chordata; Craniata; Verteb...  Melopsittacus undulatus  \n",
       " 2  Eukaryota; Metazoa; Chordata; Craniata; Verteb...  Melopsittacus undulatus  \n",
       " 3  Eukaryota; Metazoa; Chordata; Craniata; Verteb...  Melopsittacus undulatus  \n",
       " 4  Eukaryota; Metazoa; Chordata; Craniata; Verteb...  Melopsittacus undulatus  )"
      ]
     },
     "execution_count": 5,
     "metadata": {},
     "output_type": "execute_result"
    }
   ],
   "source": [
    "df_first_search = pd.read_csv('blast_results_without_filtering.csv')\n",
    "\n",
    "df_eukaryote_filtered = pd.read_csv('blast_results_with_taxonomy.csv')\n",
    "\n",
    "df_first_search.head(), df_eukaryote_filtered.head()\n"
   ]
  },
  {
   "cell_type": "markdown",
   "metadata": {},
   "source": [
    "### 1. Species-Specific Patterns:\n",
    "\n",
    "The presence of a sequence closely matching a viral genome in a bird species might suggest a case of horizontal gene transfer, viral integration into the host genome, or a shared evolutionary origin.\n",
    "\n",
    "Investigating the history of Duck hepatitis B virus and its interaction with bird species, particularly Melopsittacus undulatus, could provide insights. This can include research on the virus's infectivity, adaptation, and any known genomic integrations in host species."
   ]
  },
  {
   "cell_type": "markdown",
   "metadata": {},
   "source": [
    "### 2. Functional Insights:\n",
    "\n",
    "Based on the information gathered, Duck hepatitis B virus (DHBV) is known for its high similarity to human hepatitis B virus (HBV). It's often used as a model for HBV research. The DHBV genome consists of partially double-stranded DNA and includes distinct open reading frames (ORFs) encoding different proteins, such as the core antigen, surface antigen, and viral polymerase. These proteins play crucial roles in the virus's life cycle, including entry into host cells, replication, and immune response evasion.\n",
    "\n",
    "The genome of DHBV has been subject to studies revealing its phylogenetic relationships and intergenotypic recombination events. These events highlight the genetic diversity and adaptability of the virus. Interestingly, the genome of DHBV shares a high degree of similarity among different strains, with notable differences between those originating from ducks and geese.\n",
    "\n",
    "Given this information, it's plausible to hypothesize that the sequence found in both the Duck hepatitis B virus and Melopsittacus undulatus (budgerigar) might be indicative of a past viral integration event or a shared evolutionary origin. This is further supported by the common practice of DHBV being used as a model for human hepatitis B virus studies, implying its relevance in understanding viral infections and interactions with host genomes.\n",
    "\n",
    "The presence of this sequence in both a virus and a eukaryotic organism like Melopsittacus undulatus could suggest a potential role in viral infection mechanisms or a legacy of ancient genomic events where viral sequences were integrated into the host genome. This might have implications for the evolution of both the virus and the host species, potentially affecting their biology and interaction dynamics.\n",
    "\n"
   ]
  },
  {
   "cell_type": "markdown",
   "metadata": {},
   "source": [
    "### 3.  Comparative Genomics Analysis:\n",
    "\n",
    "**Sequence Conservation Across Species (Virus and Bird)**:\n",
    "\n",
    "The same sequence appearing in both a virus (Duck hepatitis B virus) and a bird species (budgerigar) suggests it is conserved. In biology, sequence conservation often implies that the sequence is under evolutionary pressure to remain unchanged, which can indicate its importance in some biological function.\n",
    "The hypothesis of horizontal gene transfer (where genetic material moves between organisms in a manner other than traditional reproduction) or a shared ancestral sequence comes from observing similar sequences in vastly different organisms (like a virus and a bird). This is a common occurrence in evolutionary biology, where viruses can integrate their genetic material into the host genome.\n",
    "Evolutionary Implications:\n",
    "\n",
    "The idea of an \"ancient viral integration event\" is based on a known phenomenon where viral sequences become a part of the host genome. This is observed in many species, including humans, where remnants of ancient viruses are found in our DNA.\n",
    "A \"shared ancestral sequence\" implies that the sequence was present in a common ancestor of both the virus and the bird. This is less likely given the significant evolutionary distance between viruses and eukaryotic organisms, but it's a theoretical possibility in evolutionary studies.\n",
    "\n",
    "Functional Roles:\n",
    "In viruses, sequences that are conserved are often critical to their life cycle, such as for replication or evading the host's immune system.\n",
    "In the bird, if this sequence is a remnant of ancient viral infection (endogenous viral element), it might be non-functional or have been co-opted for a new function. There are instances where viral sequences have been repurposed by the host organism for beneficial roles."
   ]
  },
  {
   "cell_type": "markdown",
   "metadata": {},
   "source": [
    "### 4. Ecological and Environmental Context:\n",
    "\n",
    "**Habitat and Lifestyle of Duck hepatitis B Virus and Budgerigar (Melopsittacus undulatus):**\n",
    "\n",
    "Duck hepatitis B virus is found in avian species, primarily in ducks. The virus's spread and evolution are likely influenced by the migration patterns, breeding habits, and population density of its avian hosts.\n",
    "Budgerigars are small parrots that are native to arid regions of Australia. They live in large flocks and are known for their adaptability to various environmental conditions. The lifestyle and habitat of budgerigars could affect how they interact with pathogens like the Duck hepatitis B virus.\n",
    "\n",
    "**Interaction with Other Species:**\n",
    "\n",
    "The interaction between different avian species, including the potential for inter-species transmission of the virus, can affect the genetic diversity and evolution of the virus. The virus may adapt to different hosts, potentially leading to the emergence of new strains.\n",
    "\n",
    "**Environmental Stressors:**\n",
    "\n",
    "Environmental factors such as climate change, habitat destruction, and human activities can impact the health and behavior of both the virus's avian hosts and other potential host species. These factors can influence the transmission dynamics of the virus.\n",
    "Evolutionary Pressure:\n",
    "\n",
    "The sequence in question might be under different evolutionary pressures in a virus compared to a bird. In the virus, the sequence might be involved in critical functions like replication, while in the bird, it might have a different role or be a remnant of past viral integration events."
   ]
  }
 ],
 "metadata": {
  "kernelspec": {
   "display_name": "Python 3 (ipykernel)",
   "language": "python",
   "name": "python3"
  },
  "language_info": {
   "codemirror_mode": {
    "name": "ipython",
    "version": 3
   },
   "file_extension": ".py",
   "mimetype": "text/x-python",
   "name": "python",
   "nbconvert_exporter": "python",
   "pygments_lexer": "ipython3",
   "version": "3.8.10"
  }
 },
 "nbformat": 4,
 "nbformat_minor": 2
}
